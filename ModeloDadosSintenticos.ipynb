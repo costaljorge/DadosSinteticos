{
  "nbformat": 4,
  "nbformat_minor": 0,
  "metadata": {
    "colab": {
      "provenance": [],
      "authorship_tag": "ABX9TyNtnECHeq1IpxwifV5qwcCO",
      "include_colab_link": true
    },
    "kernelspec": {
      "name": "python3",
      "display_name": "Python 3"
    },
    "language_info": {
      "name": "python"
    }
  },
  "cells": [
    {
      "cell_type": "markdown",
      "metadata": {
        "id": "view-in-github",
        "colab_type": "text"
      },
      "source": [
        "<a href=\"https://colab.research.google.com/github/costaljorge/DadosSinteticos/blob/main/ModeloDadosSintenticos.ipynb\" target=\"_parent\"><img src=\"https://colab.research.google.com/assets/colab-badge.svg\" alt=\"Open In Colab\"/></a>"
      ]
    },
    {
      "cell_type": "markdown",
      "source": [
        "##Dados Sinteticos"
      ],
      "metadata": {
        "id": "DKVIeJTkVuix"
      }
    },
    {
      "cell_type": "code",
      "execution_count": null,
      "metadata": {
        "id": "A6LYEwYN2Uhu"
      },
      "outputs": [],
      "source": [
        "# 2024 será um ano crucial para os dados sintéticos.\n",
        "# Estima-se que 60% dos dados utilizados para o desenvolvimento de IA e análises\n",
        "# serão gerados sinteticamente, tornando-se um recurso essencial para diversos setores.\n",
        "\n",
        "import pandas as pd\n",
        "import random\n",
        "\n",
        "# Definindo os gêneros de filmes\n",
        "generos = ['Terror', 'Romance', 'Documentário', 'Ação', 'Suspense', 'Anime', 'Ficção', 'Comédia', 'Drama']\n",
        "\n",
        "# Inicializando o DataFrame\n",
        "df = pd.DataFrame(columns=generos)\n",
        "\n",
        "# Gerando os dados para 200 linhas\n",
        "for _ in range(200):\n",
        "    # Inicializando a lista de filmes assistidos\n",
        "    filmes_assistidos = []\n",
        "\n",
        "    # Escolhendo aleatoriamente dois filmes para assistir\n",
        "    for _ in range(2):\n",
        "        filme = random.choice(generos)\n",
        "        filmes_assistidos.append(filme)\n",
        "\n",
        "    # Preenchendo o DataFrame com 1 para os filmes assistidos e 0 para os demais\n",
        "    linha = {genero: 1 if genero in filmes_assistidos else 0 for genero in generos}\n",
        "    #df = df.append(linha, ignore_index=True)\n",
        "    df.loc[len(df)] = linha\n",
        "\n",
        "# Salvando o DataFrame em um arquivo Excel\n",
        "df.to_excel('Filmes.xlsx', index=False)\n",
        "\n",
        "print(\"Arquivo salvo com sucesso!\")\n"
      ]
    },
    {
      "cell_type": "markdown",
      "source": [
        "## Resolucao do Dataset"
      ],
      "metadata": {
        "id": "Ja7r5AxDV4ku"
      }
    },
    {
      "cell_type": "code",
      "source": [
        "# Importando as bibliotecas necessárias\n",
        "# O objetivo desse modelo e tratar um dataset Binario,\n",
        "# Com aprendizado Semi supervisionado,\n",
        "# AgglomerativeClustering e DecisionTreeClassifier\n",
        "from sklearn.cluster import AgglomerativeClustering\n",
        "from scipy.spatial.distance import pdist\n",
        "from scipy.spatial.distance import squareform\n",
        "from sklearn.tree import DecisionTreeClassifier, plot_tree\n",
        "from sklearn.model_selection import train_test_split\n",
        "from sklearn.metrics import accuracy_score\n",
        "from sklearn import tree\n",
        "import matplotlib.pyplot as plt\n",
        "import pandas as pd\n",
        "\n",
        "# Importando o Dataset\n",
        "df = pd.read_excel('/content/Filmes.xlsx')\n",
        "\n",
        "# Calculando a matriz de distância usando a distância de Hamming\n",
        "# A distância de Hamming mede a diferença entre duas strings de mesmo tamanho,\n",
        "# indicando o número de caracteres que diferem.\n",
        "# É utilizada em aprendizado de máquina (agrupamento, busca de similaridade, avaliação de modelos).\n",
        "distancia = pdist(df.values, metric='hamming')\n",
        "matriz_distancia = squareform(distancia)\n",
        "\n",
        "# Realizando o agrupamento hierárquico\n",
        "cluster = AgglomerativeClustering(n_clusters=3, affinity='precomputed', linkage='average')\n",
        "predicoes = cluster.fit_predict(matriz_distancia)\n",
        "\n",
        "# Adicionando os rótulos dos clusters ao DataFrame\n",
        "df['cluster'] = predicoes\n",
        "\n",
        "# Dividindo os dados em conjuntos de treinamento e teste\n",
        "X_train, X_test, y_train, y_test = train_test_split(df.drop('cluster', axis=1), df['cluster'], test_size=0.2, random_state=42)\n",
        "\n",
        "# Treinando o modelo de árvore de decisão\n",
        "clf = DecisionTreeClassifier(random_state=42, max_depth=3)\n",
        "clf.fit(X_train, y_train)\n",
        "\n",
        "# Fazendo previsões no conjunto de teste\n",
        "y_pred = clf.predict(X_test)\n",
        "\n",
        "# Calculando a acurácia\n",
        "acuracia = accuracy_score(y_test, y_pred)\n",
        "\n",
        "# Imprimindo a árvore de decisão\n",
        "plt.figure(figsize=(12, 8))\n",
        "plot_tree(clf, filled=True, feature_names=df.columns, class_names=True, proportion=True)\n",
        "# Imprimindo a acurácia\n",
        "print('Acurácia:', acuracia)"
      ],
      "metadata": {
        "id": "Pj-o0J37SNJs"
      },
      "execution_count": null,
      "outputs": []
    }
  ]
}